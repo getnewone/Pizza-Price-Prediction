{
 "cells": [
  {
   "cell_type": "code",
   "execution_count": 9,
   "metadata": {},
   "outputs": [],
   "source": [
    "import pandas as pd\n",
    "import numpy as np\n",
    "from sklearn.linear_model import LinearRegression\n",
    "from sklearn.model_selection import train_test_split\n",
    "import matplotlib.pyplot as plt\n",
    "from sklearn.metrics import mean_squared_error\n",
    "from sklearn.ensemble import RandomForestRegressor"
   ]
  },
  {
   "cell_type": "code",
   "execution_count": 10,
   "metadata": {},
   "outputs": [],
   "source": [
    "file = pd.read_excel(\"//Users/mybookpro/Journey of pro/ML23/Practices/sales.xlsx\")"
   ]
  },
  {
   "cell_type": "code",
   "execution_count": 11,
   "metadata": {},
   "outputs": [
    {
     "data": {
      "text/html": [
       "<div>\n",
       "<style scoped>\n",
       "    .dataframe tbody tr th:only-of-type {\n",
       "        vertical-align: middle;\n",
       "    }\n",
       "\n",
       "    .dataframe tbody tr th {\n",
       "        vertical-align: top;\n",
       "    }\n",
       "\n",
       "    .dataframe thead th {\n",
       "        text-align: right;\n",
       "    }\n",
       "</style>\n",
       "<table border=\"1\" class=\"dataframe\">\n",
       "  <thead>\n",
       "    <tr style=\"text-align: right;\">\n",
       "      <th></th>\n",
       "      <th>order_date</th>\n",
       "      <th>total_sale</th>\n",
       "      <th>Status</th>\n",
       "    </tr>\n",
       "  </thead>\n",
       "  <tbody>\n",
       "    <tr>\n",
       "      <th>0</th>\n",
       "      <td>2015-01-01 00:00:00</td>\n",
       "      <td>2727.10</td>\n",
       "      <td>Normal</td>\n",
       "    </tr>\n",
       "    <tr>\n",
       "      <th>1</th>\n",
       "      <td>2015-02-01 00:00:00</td>\n",
       "      <td>2731.90</td>\n",
       "      <td>Normal</td>\n",
       "    </tr>\n",
       "    <tr>\n",
       "      <th>2</th>\n",
       "      <td>2015-03-01 00:00:00</td>\n",
       "      <td>2662.40</td>\n",
       "      <td>Normal</td>\n",
       "    </tr>\n",
       "    <tr>\n",
       "      <th>3</th>\n",
       "      <td>2015-04-01 00:00:00</td>\n",
       "      <td>1738.80</td>\n",
       "      <td>Quiet</td>\n",
       "    </tr>\n",
       "    <tr>\n",
       "      <th>4</th>\n",
       "      <td>2015-05-01 00:00:00</td>\n",
       "      <td>1899.95</td>\n",
       "      <td>Quiet</td>\n",
       "    </tr>\n",
       "    <tr>\n",
       "      <th>...</th>\n",
       "      <td>...</td>\n",
       "      <td>...</td>\n",
       "      <td>...</td>\n",
       "    </tr>\n",
       "    <tr>\n",
       "      <th>360</th>\n",
       "      <td>27/12/2015</td>\n",
       "      <td>2730.00</td>\n",
       "      <td>Normal</td>\n",
       "    </tr>\n",
       "    <tr>\n",
       "      <th>361</th>\n",
       "      <td>28/12/2015</td>\n",
       "      <td>2998.00</td>\n",
       "      <td>Busy</td>\n",
       "    </tr>\n",
       "    <tr>\n",
       "      <th>362</th>\n",
       "      <td>29/12/2015</td>\n",
       "      <td>2608.00</td>\n",
       "      <td>Normal</td>\n",
       "    </tr>\n",
       "    <tr>\n",
       "      <th>363</th>\n",
       "      <td>30/12/2015</td>\n",
       "      <td>3652.00</td>\n",
       "      <td>Busy</td>\n",
       "    </tr>\n",
       "    <tr>\n",
       "      <th>364</th>\n",
       "      <td>31/12/2015</td>\n",
       "      <td>3013.00</td>\n",
       "      <td>Busy</td>\n",
       "    </tr>\n",
       "  </tbody>\n",
       "</table>\n",
       "<p>365 rows × 3 columns</p>\n",
       "</div>"
      ],
      "text/plain": [
       "              order_date  total_sale  Status\n",
       "0    2015-01-01 00:00:00     2727.10  Normal\n",
       "1    2015-02-01 00:00:00     2731.90  Normal\n",
       "2    2015-03-01 00:00:00     2662.40  Normal\n",
       "3    2015-04-01 00:00:00     1738.80   Quiet\n",
       "4    2015-05-01 00:00:00     1899.95   Quiet\n",
       "..                   ...         ...     ...\n",
       "360           27/12/2015     2730.00  Normal\n",
       "361           28/12/2015     2998.00    Busy\n",
       "362           29/12/2015     2608.00  Normal\n",
       "363           30/12/2015     3652.00    Busy\n",
       "364           31/12/2015     3013.00    Busy\n",
       "\n",
       "[365 rows x 3 columns]"
      ]
     },
     "execution_count": 11,
     "metadata": {},
     "output_type": "execute_result"
    }
   ],
   "source": [
    "file"
   ]
  },
  {
   "attachments": {},
   "cell_type": "markdown",
   "metadata": {},
   "source": [
    "### converting \"oder_date\" into datetime"
   ]
  },
  {
   "cell_type": "code",
   "execution_count": 12,
   "metadata": {},
   "outputs": [],
   "source": [
    "file['order_date'] = pd.to_datetime(file['order_date'])\n",
    "file['year'] = pd.to_numeric(file['order_date'].dt.strftime('%j'))   # help to convert string year values into numeric, and saparate the year\n"
   ]
  },
  {
   "attachments": {},
   "cell_type": "markdown",
   "metadata": {},
   "source": [
    "### Train a Random Forest Regressor to predict total sale accuratly"
   ]
  },
  {
   "cell_type": "code",
   "execution_count": 13,
   "metadata": {},
   "outputs": [],
   "source": [
    "x = file[['year']].values  # extraxt value and store it into numpy array"
   ]
  },
  {
   "cell_type": "code",
   "execution_count": 14,
   "metadata": {},
   "outputs": [],
   "source": [
    "y = file[['total_sale']].values"
   ]
  },
  {
   "attachments": {},
   "cell_type": "markdown",
   "metadata": {},
   "source": [
    "### Creating Model"
   ]
  },
  {
   "cell_type": "code",
   "execution_count": 15,
   "metadata": {},
   "outputs": [
    {
     "name": "stderr",
     "output_type": "stream",
     "text": [
      "/var/folders/j8/hm73bfjd6979vyyz80x2hp2r0000gp/T/ipykernel_2630/2103012419.py:2: DataConversionWarning: A column-vector y was passed when a 1d array was expected. Please change the shape of y to (n_samples,), for example using ravel().\n",
      "  model.fit(x,y)\n"
     ]
    },
    {
     "data": {
      "text/plain": [
       "RandomForestRegressor(random_state=40)"
      ]
     },
     "execution_count": 15,
     "metadata": {},
     "output_type": "execute_result"
    }
   ],
   "source": [
    "model = RandomForestRegressor(n_estimators=100, random_state=40)\n",
    "model.fit(x,y)\n"
   ]
  },
  {
   "attachments": {},
   "cell_type": "markdown",
   "metadata": {},
   "source": [
    "### Function to predict total sale and category for a given date"
   ]
  },
  {
   "cell_type": "code",
   "execution_count": 18,
   "metadata": {},
   "outputs": [
    {
     "name": "stdout",
     "output_type": "stream",
     "text": [
      "Total sales on [30-07-2015] can be: 3008.49\n",
      "Status of the shop can be: Busy\n"
     ]
    }
   ],
   "source": [
    "def predict_sale_and_status(date):\n",
    "    new_date = pd.to_datetime(date)\n",
    "    year = pd.to_numeric(new_date.strftime('%j')).reshape(1,-1)\n",
    "    \n",
    "    predicted_sales = model.predict(year)[0]\n",
    "\n",
    "    if predicted_sales <= 1500:\n",
    "        return predicted_sales, 'Quiet'\n",
    "    \n",
    "    elif predicted_sales <=2800:\n",
    "        return predicted_sales,'Normal'\n",
    "    \n",
    "    else:\n",
    "        return predicted_sales,'Busy'\n",
    "\n",
    "new_date = '30-07-2015'\n",
    "predicted_sales, Status = predict_sale_and_status(new_date)\n",
    "print(f\"Total sales on [{new_date}] can be: {predicted_sales:.2f}\")\n",
    "print(f\"Status of the shop can be: {Status}\")\n",
    "\n",
    "\n",
    "\n",
    "\n",
    "\n"
   ]
  },
  {
   "cell_type": "code",
   "execution_count": null,
   "metadata": {},
   "outputs": [],
   "source": []
  }
 ],
 "metadata": {
  "kernelspec": {
   "display_name": "venv",
   "language": "python",
   "name": "python3"
  },
  "language_info": {
   "codemirror_mode": {
    "name": "ipython",
    "version": 3
   },
   "file_extension": ".py",
   "mimetype": "text/x-python",
   "name": "python",
   "nbconvert_exporter": "python",
   "pygments_lexer": "ipython3",
   "version": "3.11.4 (v3.11.4:d2340ef257, Jun  6 2023, 19:15:51) [Clang 13.0.0 (clang-1300.0.29.30)]"
  },
  "orig_nbformat": 4,
  "vscode": {
   "interpreter": {
    "hash": "c2064b22695046463e68bb0db19beb02e38b40837b349f429cb80b10a84309c8"
   }
  }
 },
 "nbformat": 4,
 "nbformat_minor": 2
}
